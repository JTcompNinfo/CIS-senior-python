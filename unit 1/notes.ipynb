{
 "cells": [
  {
   "cell_type": "markdown",
   "id": "720e7922",
   "metadata": {},
   "source": [
    "## Working with Python Variables\n"
   ]
  },
  {
   "cell_type": "markdown",
   "id": "f0b9d5e5",
   "metadata": {},
   "source": [
    "Structure of creating a variable\n",
    "[variable_name] [assignment operator] [value]\n",
    "myVar = \"blah\"\n",
    "\n",
    "## What are the data types in Python\n",
    "1. Strings - anything inside \" \" or ' '\n",
    "2. Booleans - True/False\n",
    "3. Intergers - whole numbers, even or odd\n",
    "4. Floats - any number with a decimal"
   ]
  },
  {
   "cell_type": "code",
   "execution_count": 3,
   "id": "ea507538",
   "metadata": {},
   "outputs": [
    {
     "name": "stdout",
     "output_type": "stream",
     "text": [
      "3.9\n",
      "3.9\n"
     ]
    }
   ],
   "source": [
    "#variable Reassignment\n",
    "\n",
    "# A studentsa gps throught highschool\n",
    "sutdent_gpa = 3.2 #Freshman year\n",
    "\n",
    "student_gpa = 3.4 # sophmore year\n",
    "\n",
    "student_gpa = 3.7 # junior year\n",
    "\n",
    "student_gpa = 3.9 #Senior year\n",
    "print(student_gpa)\n",
    "\n",
    "# OUTPUT: 3.9\n",
    "\n",
    "# If you need to store all data \n",
    "sutdent_gpa_Fr = 3.2 #Freshman year\n",
    "\n",
    "student_gpa_So = 3.4 # sophmore year\n",
    "\n",
    "student_gpa_Ju = 3.7 # junior year\n",
    "\n",
    "student_gpa_Se = 3.9 #Senior year\n",
    "print(student_gpa)"
   ]
  },
  {
   "cell_type": "code",
   "execution_count": 5,
   "id": "5efbb8e7",
   "metadata": {},
   "outputs": [
    {
     "name": "stdout",
     "output_type": "stream",
     "text": [
      "True\n"
     ]
    }
   ],
   "source": [
    "# Sports Team Statistics\n",
    "\n",
    "#Basketball Team variables\n",
    "\n",
    "teamName = \"Riverside Ravens\"\n",
    "wins = 18\n",
    "losses = 7\n",
    "pointsScored = 1456\n",
    "pointsAllowed = 1298\n",
    "leadingScorer = \"Jordan Thomson\"\n",
    "averagePointsPerGame = 58.2\n",
    "championshipContender = True\n",
    "\n",
    "print(championshipContender)"
   ]
  },
  {
   "cell_type": "code",
   "execution_count": 1,
   "id": "74ede7ec",
   "metadata": {},
   "outputs": [
    {
     "name": "stdout",
     "output_type": "stream",
     "text": [
      "ERROR! Session/line number was not unique in database. History logging moved to new session 3\n"
     ]
    }
   ],
   "source": [
    "# The input function\n",
    "\n",
    "#input(\"enter your first name: \")\n",
    "\n",
    "first_name = input(\"Enter your first name\")"
   ]
  },
  {
   "cell_type": "markdown",
   "id": "b9e43026",
   "metadata": {},
   "source": [
    "## 4 main computational Process\n",
    "\n",
    "- Input\n",
    "- Processing\n",
    "- Output\n",
    "- Storgae (Memory)"
   ]
  },
  {
   "cell_type": "markdown",
   "id": "b55168bb",
   "metadata": {},
   "source": [
    "## Strings, Assignments, and comments:\n",
    "\n",
    "**Data Types** - consists of a set of values and a set of operators that can be preformed on those values\n",
    "\n",
    "**Literal** - is the way a value of a data type looks to a programmer\n",
    "\n",
    "<table>\n",
    "    <tr>\n",
    "        <th>Type of Data</th>\n",
    "        <th>Python Type Name</th>\n",
    "        <th>Example Literals</th>\n",
    "    </tr>\n",
    "    <tr>\n",
    "        <td>Intergers</td>\n",
    "        <td>int</td>\n",
    "        <td>-1, 0, 1, 365, -78467867</td>\n",
    "    </tr>\n",
    "    <tr>\n",
    "        <td>Real Numbers</td>\n",
    "        <td>floats</td>\n",
    "        <td>-0.55, 0.33333, 3.14, 6.0, .5, 5.</td>\n",
    "    </tr>\n",
    "    <tr>\n",
    "        <td>Character Strings</td>\n",
    "        <td>str</td>\n",
    "        <td>\"Hello\", \"\", \" \", 'a', \"647\"</td>\n",
    "    </tr>\n",
    "</table>"
   ]
  },
  {
   "cell_type": "code",
   "execution_count": 1,
   "id": "9f3da17a",
   "metadata": {},
   "outputs": [
    {
     "name": "stdout",
     "output_type": "stream",
     "text": [
      "Hello there!\n",
      "657\n"
     ]
    }
   ],
   "source": [
    "hello = 'Hello there!'\n",
    "myInt = 657\n",
    "print(hello) #literal is: Hello there!\n",
    "print(myInt) #literal is: 657"
   ]
  },
  {
   "cell_type": "markdown",
   "id": "6f8cafcc",
   "metadata": {},
   "source": [
    "## Escape Sequences\n",
    "\n",
    "**Escap Sequence** - the way python expresses special charachters, shuch as tab, the newline, and the backspace as literals\n",
    "\n",
    "<table>\n",
    "    <tr>\n",
    "        <th>scape sequence</th>\n",
    "        <th>Meaning</th>\n",
    "    </tr>\n",
    "    <tr>\n",
    "        <td>\\b</td>\n",
    "        <td>Backspace</td>\n",
    "    </tr>\n",
    "    <tr>\n",
    "        <td>\\n</td>\n",
    "        <td>Newline</td>\n",
    "    </tr>\n",
    "    <tr>\n",
    "        <td>\\t</td>\n",
    "        <td>Horizantal Tab</td>\n",
    "    </tr>\n",
    "    <tr>\n",
    "        <td>\\\\</td>\n",
    "        <td>The \\ character</td>\n",
    "    </tr>\n",
    "    <tr>\n",
    "        <td>\\'</td>\n",
    "        <td>Single quotation mark</td>\n",
    "    </tr>\n",
    "    <tr>\n",
    "        <td>\\\"</td>\n",
    "        <td>Double quotation mark</td>\n",
    "    </tr>\n",
    "</table>"
   ]
  },
  {
   "cell_type": "markdown",
   "id": "1be02a9b",
   "metadata": {},
   "source": []
  }
 ],
 "metadata": {
  "kernelspec": {
   "display_name": "Python 3",
   "language": "python",
   "name": "python3"
  },
  "language_info": {
   "codemirror_mode": {
    "name": "ipython",
    "version": 3
   },
   "file_extension": ".py",
   "mimetype": "text/x-python",
   "name": "python",
   "nbconvert_exporter": "python",
   "pygments_lexer": "ipython3",
   "version": "3.12.1"
  }
 },
 "nbformat": 4,
 "nbformat_minor": 5
}
