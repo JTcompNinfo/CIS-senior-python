{
 "cells": [
  {
   "cell_type": "markdown",
   "id": "720e7922",
   "metadata": {},
   "source": [
    "## Working with Python Variables\n"
   ]
  },
  {
   "cell_type": "markdown",
   "id": "f0b9d5e5",
   "metadata": {},
   "source": [
    "Structure of creating a variable\n",
    "[variable_name] [assignment operator] [value]\n",
    "myVar = \"blah\"\n",
    "\n",
    "## What are the data types in Python\n",
    "1. Strings - anything inside \" \" or ' '\n",
    "2. Booleans - True/False\n",
    "3. Intergers - whole numbers, even or odd\n",
    "4. Floats - any number with a decimal"
   ]
  },
  {
   "cell_type": "code",
   "execution_count": 3,
   "id": "ea507538",
   "metadata": {},
   "outputs": [
    {
     "name": "stdout",
     "output_type": "stream",
     "text": [
      "3.9\n",
      "3.9\n"
     ]
    }
   ],
   "source": [
    "#variable Reassignment\n",
    "\n",
    "# A studentsa gps throught highschool\n",
    "sutdent_gpa = 3.2 #Freshman year\n",
    "\n",
    "student_gpa = 3.4 # sophmore year\n",
    "\n",
    "student_gpa = 3.7 # junior year\n",
    "\n",
    "student_gpa = 3.9 #Senior year\n",
    "print(student_gpa)\n",
    "\n",
    "# OUTPUT: 3.9\n",
    "\n",
    "# If you need to store all data \n",
    "sutdent_gpa_Fr = 3.2 #Freshman year\n",
    "\n",
    "student_gpa_So = 3.4 # sophmore year\n",
    "\n",
    "student_gpa_Ju = 3.7 # junior year\n",
    "\n",
    "student_gpa_Se = 3.9 #Senior year\n",
    "print(student_gpa)"
   ]
  },
  {
   "cell_type": "code",
   "execution_count": 5,
   "id": "5efbb8e7",
   "metadata": {},
   "outputs": [
    {
     "name": "stdout",
     "output_type": "stream",
     "text": [
      "True\n"
     ]
    }
   ],
   "source": [
    "# Sports Team Statistics\n",
    "\n",
    "#Basketball Team variables\n",
    "\n",
    "teamName = \"Riverside Ravens\"\n",
    "wins = 18\n",
    "losses = 7\n",
    "pointsScored = 1456\n",
    "pointsAllowed = 1298\n",
    "leadingScorer = \"Jordan Thomson\"\n",
    "averagePointsPerGame = 58.2\n",
    "championshipContender = True\n",
    "\n",
    "print(championshipContender)"
   ]
  },
  {
   "cell_type": "code",
   "execution_count": 1,
   "id": "74ede7ec",
   "metadata": {},
   "outputs": [
    {
     "name": "stdout",
     "output_type": "stream",
     "text": [
      "ERROR! Session/line number was not unique in database. History logging moved to new session 3\n"
     ]
    }
   ],
   "source": [
    "# The input function\n",
    "\n",
    "#input(\"enter your first name: \")\n",
    "\n",
    "first_name = input(\"Enter your first name\")"
   ]
  },
  {
   "cell_type": "markdown",
   "id": "b9e43026",
   "metadata": {},
   "source": [
    "## 4 main computational Process\n",
    "\n",
    "- Input\n",
    "- Processing\n",
    "- Output\n",
    "- Storgae (Memory)"
   ]
  },
  {
   "cell_type": "markdown",
   "id": "b55168bb",
   "metadata": {},
   "source": [
    "## Strings, Assignments, and comments:\n",
    "\n",
    "**Data Types** - consists of a set of values and a set of operators that can be preformed on those values\n",
    "\n",
    "**Literal** - is the way a value of a data type looks to a programmer\n",
    "\n",
    "<table>\n",
    "    <tr>\n",
    "        <th>Type of Data</th>\n",
    "        <th>Python Type Name</th>\n",
    "        <th>Example Literals</th>\n",
    "    </tr>\n",
    "    <tr>\n",
    "        <td>Intergers</td>\n",
    "        <td>int</td>\n",
    "        <td>-1, 0, 1, 365, -78467867</td>\n",
    "    </tr>\n",
    "    <tr>\n",
    "        <td>Real Numbers</td>\n",
    "        <td>floats</td>\n",
    "        <td>-0.55, 0.33333, 3.14, 6.0, .5, 5.</td>\n",
    "    </tr>\n",
    "    <tr>\n",
    "        <td>Character Strings</td>\n",
    "        <td>str</td>\n",
    "        <td>\"Hello\", \"\", \" \", 'a', \"647\"</td>\n",
    "    </tr>\n",
    "</table>"
   ]
  },
  {
   "cell_type": "code",
   "execution_count": 1,
   "id": "9f3da17a",
   "metadata": {},
   "outputs": [
    {
     "name": "stdout",
     "output_type": "stream",
     "text": [
      "Hello there!\n",
      "657\n"
     ]
    }
   ],
   "source": [
    "hello = 'Hello there!'\n",
    "myInt = 657\n",
    "print(hello) #literal is: Hello there!\n",
    "print(myInt) #literal is: 657"
   ]
  },
  {
   "cell_type": "markdown",
   "id": "6f8cafcc",
   "metadata": {},
   "source": [
    "## Escape Sequences\n",
    "\n",
    "**Escap Sequence** - the way python expresses special charachters, shuch as tab, the newline, and the backspace as literals\n",
    "\n",
    "<table>\n",
    "    <tr>\n",
    "        <th>scape sequence</th>\n",
    "        <th>Meaning</th>\n",
    "    </tr>\n",
    "    <tr>\n",
    "        <td>\\b</td>\n",
    "        <td>Backspace</td>\n",
    "    </tr>\n",
    "    <tr>\n",
    "        <td>\\n</td>\n",
    "        <td>Newline</td>\n",
    "    </tr>\n",
    "    <tr>\n",
    "        <td>\\t</td>\n",
    "        <td>Horizantal Tab</td>\n",
    "    </tr>\n",
    "    <tr>\n",
    "        <td>\\\\</td>\n",
    "        <td>The \\ character</td>\n",
    "    </tr>\n",
    "    <tr>\n",
    "        <td>\\'</td>\n",
    "        <td>Single quotation mark</td>\n",
    "    </tr>\n",
    "    <tr>\n",
    "        <td>\\\"</td>\n",
    "        <td>Double quotation mark</td>\n",
    "    </tr>\n",
    "</table>"
   ]
  },
  {
   "cell_type": "markdown",
   "id": "f4e01e61",
   "metadata": {},
   "source": [
    "## Intializing a Variable or Constant\n",
    "\n",
    "**Intializing** - This is the process of cerating a variable and setting to a default value"
   ]
  },
  {
   "cell_type": "markdown",
   "id": "9b12722b",
   "metadata": {},
   "source": [
    "## Formatting text for output\n",
    "\n",
    "- This process is for presenting required output in tabular format.\n",
    "- **Feild Width** - The total number of data characters and additional spaces for a goven datum in a formatted string.\n",
    "- **%** = the formay operator \n",
    "- **%6s** = format string"
   ]
  },
  {
   "cell_type": "code",
   "execution_count": 2,
   "id": "875154b8",
   "metadata": {},
   "outputs": [
    {
     "name": "stdout",
     "output_type": "stream",
     "text": [
      "7 10000000\n",
      "8 100000000\n",
      "9 1000000000\n",
      "10 10000000000\n"
     ]
    }
   ],
   "source": [
    "for exponet in range(7, 11):\n",
    "    print(exponet, 10 ** exponet)"
   ]
  },
  {
   "cell_type": "code",
   "execution_count": null,
   "id": "0c8d6a2d",
   "metadata": {},
   "outputs": [
    {
     "name": "stdout",
     "output_type": "stream",
     "text": [
      "four\n",
      "  four\n",
      "four  \n"
     ]
    }
   ],
   "source": [
    "print(\"four\")\n",
    "print(\"%6s\" % \"four\") # % = the formay operator %6s = format string\n",
    "print(\"%-6s\" % \"four\")"
   ]
  },
  {
   "cell_type": "markdown",
   "id": "8d3b132e",
   "metadata": {},
   "source": [
    "## Define Iteration\n",
    "\n",
    "Repeating an action or process a predfined number of times. Also know as a specific type of iteration: **Definite Iteration**\n",
    "\n",
    "Preform an action or process until the program determines that it needs to stop: **Indefinite Iteration**\n",
    "\n",
    "#### Each of these Iterations uses a diffrent type of loop\n",
    "\n",
    "Definite Iteration --> for loop \n",
    "Indefinte Iteration --> while loop"
   ]
  },
  {
   "cell_type": "code",
   "execution_count": 1,
   "id": "40cd24ad",
   "metadata": {},
   "outputs": [
    {
     "name": "stdout",
     "output_type": "stream",
     "text": [
      "It's alive! It's alive! It's alive! It's alive! "
     ]
    }
   ],
   "source": [
    "for eachPass in range(4):\n",
    "    print(\"It's alive!\", end = \" \")"
   ]
  },
  {
   "cell_type": "markdown",
   "id": "61052ac4",
   "metadata": {},
   "source": [
    "## The structure of a for loop\n",
    "\n",
    "for (varaible) in range(sn interger expresion): <br>\n",
    "    &nbsp;&nbsp;&nbsp;&nbsp;&nbsp;&nbsp;repeat any number of statements\n",
    "\n",
    "**loop header** - the line that starts with 'for'\n",
    "**loop body** - comprises the state staements in the rmaining lines of code, below the header"
   ]
  },
  {
   "cell_type": "markdown",
   "id": "64a77374",
   "metadata": {},
   "source": [
    "## Python's Exponation operator"
   ]
  },
  {
   "cell_type": "code",
   "execution_count": 4,
   "id": "5b0230ee",
   "metadata": {},
   "outputs": [
    {
     "name": "stdout",
     "output_type": "stream",
     "text": [
      "2 4 8 \n",
      "The variable product is now 8\n"
     ]
    }
   ],
   "source": [
    "# Exponet Example\n",
    "\n",
    "number = 2\n",
    "exponet = 3\n",
    "product = 1\n",
    "\n",
    "for eachPass in range(exponet):\n",
    "    product = product * number\n",
    "    print(product, end = \" \")\n",
    "    \n",
    "print(\"\\nThe variable product is now\", product)"
   ]
  },
  {
   "cell_type": "markdown",
   "id": "408932a7",
   "metadata": {},
   "source": [
    "## Count-controlled Loops"
   ]
  },
  {
   "cell_type": "code",
   "execution_count": 6,
   "id": "be79d128",
   "metadata": {},
   "outputs": [
    {
     "name": "stdout",
     "output_type": "stream",
     "text": [
      "0 1 2 3 "
     ]
    }
   ],
   "source": [
    "for count in range(4):\n",
    "    print(count, end = \" \")"
   ]
  },
  {
   "cell_type": "code",
   "execution_count": 8,
   "id": "c83fec65",
   "metadata": {},
   "outputs": [
    {
     "name": "stdout",
     "output_type": "stream",
     "text": [
      "24\n"
     ]
    }
   ],
   "source": [
    "product = 1\n",
    "for count in range(4):\n",
    "    product = product * (count + 1)\n",
    "    \n",
    "print(product)"
   ]
  },
  {
   "cell_type": "markdown",
   "id": "7220df5e",
   "metadata": {},
   "source": [
    "## Loop through a range of numbers"
   ]
  },
  {
   "cell_type": "code",
   "execution_count": 9,
   "id": "b8a53ccf",
   "metadata": {},
   "outputs": [
    {
     "name": "stdout",
     "output_type": "stream",
     "text": [
      "1 2 6 24 "
     ]
    }
   ],
   "source": [
    "product = 1\n",
    "for count in range(1, 5):\n",
    "   product  = product * count\n",
    "   print(product, end = \" \")"
   ]
  },
  {
   "cell_type": "markdown",
   "id": "a74b2bac",
   "metadata": {},
   "source": [
    "### Loop heead structure with lower and upper bounds\n",
    "\n",
    "for (variable) in range(lowerbound, uperbound + 1)"
   ]
  },
  {
   "cell_type": "code",
   "execution_count": 10,
   "id": "0e7a41d3",
   "metadata": {},
   "outputs": [
    {
     "name": "stdout",
     "output_type": "stream",
     "text": [
      "4940\n"
     ]
    }
   ],
   "source": [
    "lower = int(input(\"Enter the lowr bound: \"))\n",
    "upper = int(input(\"Enter the upper bound: \"))\n",
    "\n",
    "theSum = 0\n",
    "\n",
    "for number in range(lower, upper + 1):\n",
    "    theSum = theSum + number\n",
    "print(theSum)"
   ]
  },
  {
   "cell_type": "markdown",
   "id": "e7c1ae0d",
   "metadata": {},
   "source": [
    "## Augmented Assingment"
   ]
  },
  {
   "cell_type": "markdown",
   "id": "bbcddadd",
   "metadata": {},
   "source": [
    "**Augmented Assingment** - when the assignment symbo can be combained with the arithmentic and concatenation operator.\n",
    "\n",
    "stucture: (variable) (operator)= (expresion)"
   ]
  },
  {
   "cell_type": "code",
   "execution_count": 11,
   "id": "1152f0a5",
   "metadata": {},
   "outputs": [
    {
     "name": "stdout",
     "output_type": "stream",
     "text": [
      "20\n",
      "60\n",
      "0\n"
     ]
    }
   ],
   "source": [
    "a = 17\n",
    "s = \"hi\"\n",
    "\n",
    "a += 3\n",
    "print(a)\n",
    "\n",
    "a *= 3\n",
    "print(a)\n",
    "\n",
    "a %= 3\n",
    "print(a)"
   ]
  },
  {
   "cell_type": "code",
   "execution_count": 17,
   "id": "e050ecd5",
   "metadata": {},
   "outputs": [
    {
     "name": "stdout",
     "output_type": "stream",
     "text": [
      "hi there there there1 there1 there1 there!\n"
     ]
    }
   ],
   "source": [
    "s += \" there!\"\n",
    "print(s)\n"
   ]
  },
  {
   "cell_type": "markdown",
   "id": "5d026064",
   "metadata": {},
   "source": [
    "## lOOP ERRORS: Off-by-One Error"
   ]
  },
  {
   "cell_type": "markdown",
   "id": "298e4777",
   "metadata": {},
   "source": [
    "**Off-by-One Error** - these are errors that result when the programmer incorrectly specifies the upper bound ofr a lopp."
   ]
  },
  {
   "cell_type": "code",
   "execution_count": 18,
   "id": "edb0de23",
   "metadata": {},
   "outputs": [
    {
     "name": "stdout",
     "output_type": "stream",
     "text": [
      "1\n",
      "2\n",
      "3\n"
     ]
    }
   ],
   "source": [
    "for count in range(1,4):\n",
    "    print(count)"
   ]
  },
  {
   "cell_type": "markdown",
   "id": "ec7d36f4",
   "metadata": {},
   "source": [
    "## Traversing th contents of a Data Sequnce"
   ]
  },
  {
   "cell_type": "code",
   "execution_count": 19,
   "id": "74d796ed",
   "metadata": {},
   "outputs": [
    {
     "name": "stdout",
     "output_type": "stream",
     "text": [
      "[0, 1, 2, 3]\n",
      "[1, 2, 3, 4]\n"
     ]
    }
   ],
   "source": [
    "print(list(range(4)))\n",
    "print(list(range(1, 5)))"
   ]
  },
  {
   "cell_type": "code",
   "execution_count": 20,
   "id": "bc4eab4b",
   "metadata": {},
   "outputs": [
    {
     "name": "stdout",
     "output_type": "stream",
     "text": [
      "6 4 8 "
     ]
    }
   ],
   "source": [
    "for number in [6, 4, 8]:\n",
    "    print(number, end = \" \")"
   ]
  },
  {
   "cell_type": "code",
   "execution_count": 21,
   "id": "ba9fa2d6",
   "metadata": {},
   "outputs": [
    {
     "name": "stdout",
     "output_type": "stream",
     "text": [
      "H i ,   t h e r e ! "
     ]
    }
   ],
   "source": [
    "for charachter in \"Hi, there!\":\n",
    "    print(charachter, end = \" \")"
   ]
  },
  {
   "cell_type": "code",
   "execution_count": null,
   "id": "61dd7001",
   "metadata": {},
   "outputs": [],
   "source": []
  }
 ],
 "metadata": {
  "kernelspec": {
   "display_name": "Python 3",
   "language": "python",
   "name": "python3"
  },
  "language_info": {
   "codemirror_mode": {
    "name": "ipython",
    "version": 3
   },
   "file_extension": ".py",
   "mimetype": "text/x-python",
   "name": "python",
   "nbconvert_exporter": "python",
   "pygments_lexer": "ipython3",
   "version": "3.12.1"
  }
 },
 "nbformat": 4,
 "nbformat_minor": 5
}
