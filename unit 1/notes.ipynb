{
 "cells": [
  {
   "cell_type": "markdown",
   "id": "720e7922",
   "metadata": {},
   "source": [
    "## Working with Python Variables\n"
   ]
  },
  {
   "cell_type": "markdown",
   "id": "f0b9d5e5",
   "metadata": {},
   "source": [
    "Structure of creating a variable\n",
    "[variable_name] [assignment operator] [value]\n",
    "myVar = \"blah\"\n",
    "\n",
    "## What are the data types in Python\n",
    "1. Strings - anything inside \" \" or ' '\n",
    "2. Booleans - True/False\n",
    "3. Intergers - whole numbers, even or odd\n",
    "4. Floats - any number with a decimal"
   ]
  },
  {
   "cell_type": "code",
   "execution_count": 3,
   "id": "ea507538",
   "metadata": {},
   "outputs": [
    {
     "name": "stdout",
     "output_type": "stream",
     "text": [
      "3.9\n",
      "3.9\n"
     ]
    }
   ],
   "source": [
    "#variable Reassignment\n",
    "\n",
    "# A studentsa gps throught highschool\n",
    "sutdent_gpa = 3.2 #Freshman year\n",
    "\n",
    "student_gpa = 3.4 # sophmore year\n",
    "\n",
    "student_gpa = 3.7 # junior year\n",
    "\n",
    "student_gpa = 3.9 #Senior year\n",
    "print(student_gpa)\n",
    "\n",
    "# OUTPUT: 3.9\n",
    "\n",
    "# If you need to store all data \n",
    "sutdent_gpa_Fr = 3.2 #Freshman year\n",
    "\n",
    "student_gpa_So = 3.4 # sophmore year\n",
    "\n",
    "student_gpa_Ju = 3.7 # junior year\n",
    "\n",
    "student_gpa_Se = 3.9 #Senior year\n",
    "print(student_gpa)"
   ]
  },
  {
   "cell_type": "code",
   "execution_count": 5,
   "id": "5efbb8e7",
   "metadata": {},
   "outputs": [
    {
     "name": "stdout",
     "output_type": "stream",
     "text": [
      "True\n"
     ]
    }
   ],
   "source": [
    "# Sports Team Statistics\n",
    "\n",
    "#Basketball Team variables\n",
    "\n",
    "teamName = \"Riverside Ravens\"\n",
    "wins = 18\n",
    "losses = 7\n",
    "pointsScored = 1456\n",
    "pointsAllowed = 1298\n",
    "leadingScorer = \"Jordan Thomson\"\n",
    "averagePointsPerGame = 58.2\n",
    "championshipContender = True\n",
    "\n",
    "print(championshipContender)"
   ]
  },
  {
   "cell_type": "code",
   "execution_count": 1,
   "id": "74ede7ec",
   "metadata": {},
   "outputs": [
    {
     "name": "stdout",
     "output_type": "stream",
     "text": [
      "ERROR! Session/line number was not unique in database. History logging moved to new session 3\n"
     ]
    }
   ],
   "source": [
    "# The input function\n",
    "\n",
    "#input(\"enter your first name: \")\n",
    "\n",
    "first_name = input(\"Enter your first name\")"
   ]
  }
 ],
 "metadata": {
  "kernelspec": {
   "display_name": "Python 3",
   "language": "python",
   "name": "python3"
  },
  "language_info": {
   "codemirror_mode": {
    "name": "ipython",
    "version": 3
   },
   "file_extension": ".py",
   "mimetype": "text/x-python",
   "name": "python",
   "nbconvert_exporter": "python",
   "pygments_lexer": "ipython3",
   "version": "3.12.1"
  }
 },
 "nbformat": 4,
 "nbformat_minor": 5
}
