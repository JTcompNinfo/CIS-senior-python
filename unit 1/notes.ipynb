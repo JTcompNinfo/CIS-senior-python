{
 "cells": [
  {
   "cell_type": "markdown",
   "id": "720e7922",
   "metadata": {},
   "source": [
    "## Working with Python Variables\n"
   ]
  },
  {
   "cell_type": "markdown",
   "id": "f0b9d5e5",
   "metadata": {},
   "source": [
    "Structure of creating a variable\n",
    "[variable_name] [assignment operator] [value]\n",
    "myVar = \"blah\"\n",
    "\n",
    "## What are the data types in Python\n",
    "1. Strings - anything inside \" \" or ' '\n",
    "2. Booleans - True/False\n",
    "3. Intergers - whole numbers, even or odd\n",
    "4. Floats - any number with a decimal"
   ]
  },
  {
   "cell_type": "code",
   "execution_count": 4,
   "id": "ea507538",
   "metadata": {},
   "outputs": [
    {
     "name": "stdout",
     "output_type": "stream",
     "text": [
      "3.9\n",
      "3.9\n"
     ]
    }
   ],
   "source": [
    "#variable Reassignment\n",
    "\n",
    "# A studentsa gps throught highschool\n",
    "sutdent_gpa = 3.2 #Freshman year\n",
    "\n",
    "student_gpa = 3.4 # sophmore year\n",
    "\n",
    "student_gpa = 3.7 # junior year\n",
    "\n",
    "student_gpa = 3.9 #Senior year\n",
    "print(student_gpa)\n",
    "\n",
    "# OUTPUT: 3.9\n",
    "\n",
    "# If you need to store all data \n",
    "sutdent_gpa_Fr = 3.2 #Freshman year\n",
    "\n",
    "student_gpa_So = 3.4 # sophmore year\n",
    "\n",
    "student_gpa_Ju = 3.7 # junior year\n",
    "\n",
    "student_gpa_Se = 3.9 #Senior year\n",
    "print(student_gpa)"
   ]
  },
  {
   "cell_type": "code",
   "execution_count": 5,
   "id": "5efbb8e7",
   "metadata": {},
   "outputs": [
    {
     "name": "stdout",
     "output_type": "stream",
     "text": [
      "True\n"
     ]
    }
   ],
   "source": [
    "# Sports Team Statistics\n",
    "\n",
    "#Basketball Team variables\n",
    "\n",
    "teamName = \"Riverside Ravens\"\n",
    "wins = 18\n",
    "losses = 7\n",
    "pointsScored = 1456\n",
    "pointsAllowed = 1298\n",
    "leadingScorer = \"Jordan Thomson\"\n",
    "averagePointsPerGame = 58.2\n",
    "championshipContender = True\n",
    "\n",
    "print(championshipContender)"
   ]
  },
  {
   "cell_type": "code",
   "execution_count": 6,
   "id": "74ede7ec",
   "metadata": {},
   "outputs": [],
   "source": [
    "# The input function\n",
    "\n",
    "#input(\"enter your first name: \")\n",
    "\n",
    "first_name = input(\"Enter your first name\")"
   ]
  },
  {
   "cell_type": "markdown",
   "id": "b9e43026",
   "metadata": {},
   "source": [
    "## 4 main computational Process\n",
    "\n",
    "- Input\n",
    "- Processing\n",
    "- Output\n",
    "- Storgae (Memory)"
   ]
  },
  {
   "cell_type": "markdown",
   "id": "b55168bb",
   "metadata": {},
   "source": [
    "## Strings, Assignments, and comments:\n",
    "\n",
    "**Data Types** - consists of a set of values and a set of operators that can be preformed on those values\n",
    "\n",
    "**Literal** - is the way a value of a data type looks to a programmer\n",
    "\n",
    "<table>\n",
    "    <tr>\n",
    "        <th>Type of Data</th>\n",
    "        <th>Python Type Name</th>\n",
    "        <th>Example Literals</th>\n",
    "    </tr>\n",
    "    <tr>\n",
    "        <td>Intergers</td>\n",
    "        <td>int</td>\n",
    "        <td>-1, 0, 1, 365, -78467867</td>\n",
    "    </tr>\n",
    "    <tr>\n",
    "        <td>Real Numbers</td>\n",
    "        <td>floats</td>\n",
    "        <td>-0.55, 0.33333, 3.14, 6.0, .5, 5.</td>\n",
    "    </tr>\n",
    "    <tr>\n",
    "        <td>Character Strings</td>\n",
    "        <td>str</td>\n",
    "        <td>\"Hello\", \"\", \" \", 'a', \"647\"</td>\n",
    "    </tr>\n",
    "</table>"
   ]
  },
  {
   "cell_type": "code",
   "execution_count": 7,
   "id": "9f3da17a",
   "metadata": {},
   "outputs": [
    {
     "name": "stdout",
     "output_type": "stream",
     "text": [
      "Hello there!\n",
      "657\n"
     ]
    }
   ],
   "source": [
    "hello = 'Hello there!'\n",
    "myInt = 657\n",
    "print(hello) #literal is: Hello there!\n",
    "print(myInt) #literal is: 657"
   ]
  },
  {
   "cell_type": "markdown",
   "id": "6f8cafcc",
   "metadata": {},
   "source": [
    "## Escape Sequences\n",
    "\n",
    "**Escap Sequence** - the way python expresses special charachters, shuch as tab, the newline, and the backspace as literals\n",
    "\n",
    "<table>\n",
    "    <tr>\n",
    "        <th>scape sequence</th>\n",
    "        <th>Meaning</th>\n",
    "    </tr>\n",
    "    <tr>\n",
    "        <td>\\b</td>\n",
    "        <td>Backspace</td>\n",
    "    </tr>\n",
    "    <tr>\n",
    "        <td>\\n</td>\n",
    "        <td>Newline</td>\n",
    "    </tr>\n",
    "    <tr>\n",
    "        <td>\\t</td>\n",
    "        <td>Horizantal Tab</td>\n",
    "    </tr>\n",
    "    <tr>\n",
    "        <td>\\\\</td>\n",
    "        <td>The \\ character</td>\n",
    "    </tr>\n",
    "    <tr>\n",
    "        <td>\\'</td>\n",
    "        <td>Single quotation mark</td>\n",
    "    </tr>\n",
    "    <tr>\n",
    "        <td>\\\"</td>\n",
    "        <td>Double quotation mark</td>\n",
    "    </tr>\n",
    "</table>"
   ]
  },
  {
   "cell_type": "markdown",
   "id": "f4e01e61",
   "metadata": {},
   "source": [
    "## Intializing a Variable or Constant\n",
    "\n",
    "**Intializing** - This is the process of cerating a variable and setting to a default value"
   ]
  },
  {
   "cell_type": "markdown",
   "id": "9b12722b",
   "metadata": {},
   "source": [
    "## Formatting text for output\n",
    "\n",
    "- This process is for presenting required output in tabular format.\n",
    "- **Feild Width** - The total number of data characters and additional spaces for a goven datum in a formatted string.\n",
    "- **%** = the formay operator \n",
    "- **%6s** = format string"
   ]
  },
  {
   "cell_type": "code",
   "execution_count": 8,
   "id": "875154b8",
   "metadata": {},
   "outputs": [
    {
     "name": "stdout",
     "output_type": "stream",
     "text": [
      "7 10000000\n",
      "8 100000000\n",
      "9 1000000000\n",
      "10 10000000000\n"
     ]
    }
   ],
   "source": [
    "for exponet in range(7, 11):\n",
    "    print(exponet, 10 ** exponet)"
   ]
  },
  {
   "cell_type": "code",
   "execution_count": 9,
   "id": "0c8d6a2d",
   "metadata": {},
   "outputs": [
    {
     "name": "stdout",
     "output_type": "stream",
     "text": [
      "four\n",
      "  four\n",
      "four  \n"
     ]
    }
   ],
   "source": [
    "print(\"four\")\n",
    "print(\"%6s\" % \"four\") # % = the formay operator %6s = format string\n",
    "print(\"%-6s\" % \"four\")"
   ]
  },
  {
   "cell_type": "markdown",
   "id": "8d3b132e",
   "metadata": {},
   "source": [
    "## Define Iteration\n",
    "\n",
    "Repeating an action or process a predfined number of times. Also know as a specific type of iteration: **Definite Iteration**\n",
    "\n",
    "Preform an action or process until the program determines that it needs to stop: **Indefinite Iteration**\n",
    "\n",
    "#### Each of these Iterations uses a diffrent type of loop\n",
    "\n",
    "Definite Iteration --> for loop \n",
    "Indefinte Iteration --> while loop"
   ]
  },
  {
   "cell_type": "code",
   "execution_count": 10,
   "id": "40cd24ad",
   "metadata": {},
   "outputs": [
    {
     "name": "stdout",
     "output_type": "stream",
     "text": [
      "It's alive! It's alive! It's alive! It's alive! "
     ]
    }
   ],
   "source": [
    "for eachPass in range(4):\n",
    "    print(\"It's alive!\", end = \" \")"
   ]
  },
  {
   "cell_type": "markdown",
   "id": "61052ac4",
   "metadata": {},
   "source": [
    "## The structure of a for loop\n",
    "\n",
    "for (varaible) in range(sn interger expresion): <br>\n",
    "    &nbsp;&nbsp;&nbsp;&nbsp;&nbsp;&nbsp;repeat any number of statements\n",
    "\n",
    "**loop header** - the line that starts with 'for'\n",
    "**loop body** - comprises the state staements in the rmaining lines of code, below the header"
   ]
  },
  {
   "cell_type": "markdown",
   "id": "64a77374",
   "metadata": {},
   "source": [
    "## Python's Exponation operator"
   ]
  },
  {
   "cell_type": "code",
   "execution_count": 11,
   "id": "5b0230ee",
   "metadata": {},
   "outputs": [
    {
     "name": "stdout",
     "output_type": "stream",
     "text": [
      "2 4 8 \n",
      "The variable product is now 8\n"
     ]
    }
   ],
   "source": [
    "# Exponet Example\n",
    "\n",
    "number = 2\n",
    "exponet = 3\n",
    "product = 1\n",
    "\n",
    "for eachPass in range(exponet):\n",
    "    product = product * number\n",
    "    print(product, end = \" \")\n",
    "    \n",
    "print(\"\\nThe variable product is now\", product)"
   ]
  },
  {
   "cell_type": "markdown",
   "id": "408932a7",
   "metadata": {},
   "source": [
    "## Count-controlled Loops"
   ]
  },
  {
   "cell_type": "code",
   "execution_count": 12,
   "id": "be79d128",
   "metadata": {},
   "outputs": [
    {
     "name": "stdout",
     "output_type": "stream",
     "text": [
      "0 1 2 3 "
     ]
    }
   ],
   "source": [
    "for count in range(4):\n",
    "    print(count, end = \" \")"
   ]
  },
  {
   "cell_type": "code",
   "execution_count": 13,
   "id": "c83fec65",
   "metadata": {},
   "outputs": [
    {
     "name": "stdout",
     "output_type": "stream",
     "text": [
      "24\n"
     ]
    }
   ],
   "source": [
    "product = 1\n",
    "for count in range(4):\n",
    "    product = product * (count + 1)\n",
    "    \n",
    "print(product)"
   ]
  },
  {
   "cell_type": "markdown",
   "id": "7220df5e",
   "metadata": {},
   "source": [
    "## Loop through a range of numbers"
   ]
  },
  {
   "cell_type": "code",
   "execution_count": 14,
   "id": "b8a53ccf",
   "metadata": {},
   "outputs": [
    {
     "name": "stdout",
     "output_type": "stream",
     "text": [
      "1 2 6 24 "
     ]
    }
   ],
   "source": [
    "product = 1\n",
    "for count in range(1, 5):\n",
    "   product  = product * count\n",
    "   print(product, end = \" \")"
   ]
  },
  {
   "cell_type": "markdown",
   "id": "a74b2bac",
   "metadata": {},
   "source": [
    "### Loop heead structure with lower and upper bounds\n",
    "\n",
    "for (variable) in range(lowerbound, uperbound + 1)"
   ]
  },
  {
   "cell_type": "code",
   "execution_count": 15,
   "id": "0e7a41d3",
   "metadata": {},
   "outputs": [
    {
     "name": "stdout",
     "output_type": "stream",
     "text": [
      "49994259\n"
     ]
    }
   ],
   "source": [
    "lower = int(input(\"Enter the lowr bound: \"))\n",
    "upper = int(input(\"Enter the upper bound: \"))\n",
    "\n",
    "theSum = 0\n",
    "\n",
    "for number in range(lower, upper + 1):\n",
    "    theSum = theSum + number\n",
    "print(theSum)"
   ]
  },
  {
   "cell_type": "markdown",
   "id": "e7c1ae0d",
   "metadata": {},
   "source": [
    "## Augmented Assingment"
   ]
  },
  {
   "cell_type": "markdown",
   "id": "bbcddadd",
   "metadata": {},
   "source": [
    "**Augmented Assingment** - when the assignment symbo can be combained with the arithmentic and concatenation operator.\n",
    "\n",
    "stucture: (variable) (operator)= (expresion)"
   ]
  },
  {
   "cell_type": "code",
   "execution_count": 16,
   "id": "1152f0a5",
   "metadata": {},
   "outputs": [
    {
     "name": "stdout",
     "output_type": "stream",
     "text": [
      "20\n",
      "60\n",
      "0\n"
     ]
    }
   ],
   "source": [
    "a = 17\n",
    "s = \"hi\"\n",
    "\n",
    "a += 3\n",
    "print(a)\n",
    "\n",
    "a *= 3\n",
    "print(a)\n",
    "\n",
    "a %= 3\n",
    "print(a)"
   ]
  },
  {
   "cell_type": "code",
   "execution_count": 17,
   "id": "e050ecd5",
   "metadata": {},
   "outputs": [
    {
     "name": "stdout",
     "output_type": "stream",
     "text": [
      "hi there!\n"
     ]
    }
   ],
   "source": [
    "s += \" there!\"\n",
    "print(s)\n"
   ]
  },
  {
   "cell_type": "markdown",
   "id": "5d026064",
   "metadata": {},
   "source": [
    "## lOOP ERRORS: Off-by-One Error"
   ]
  },
  {
   "cell_type": "markdown",
   "id": "298e4777",
   "metadata": {},
   "source": [
    "**Off-by-One Error** - these are errors that result when the programmer incorrectly specifies the upper bound ofr a lopp."
   ]
  },
  {
   "cell_type": "code",
   "execution_count": 18,
   "id": "edb0de23",
   "metadata": {},
   "outputs": [
    {
     "name": "stdout",
     "output_type": "stream",
     "text": [
      "1\n",
      "2\n",
      "3\n"
     ]
    }
   ],
   "source": [
    "for count in range(1,4):\n",
    "    print(count)"
   ]
  },
  {
   "cell_type": "markdown",
   "id": "ec7d36f4",
   "metadata": {},
   "source": [
    "## Traversing th contents of a Data Sequnce"
   ]
  },
  {
   "cell_type": "code",
   "execution_count": 19,
   "id": "74d796ed",
   "metadata": {},
   "outputs": [
    {
     "name": "stdout",
     "output_type": "stream",
     "text": [
      "[0, 1, 2, 3]\n",
      "[1, 2, 3, 4]\n"
     ]
    }
   ],
   "source": [
    "print(list(range(4)))\n",
    "print(list(range(1, 5)))"
   ]
  },
  {
   "cell_type": "code",
   "execution_count": 20,
   "id": "bc4eab4b",
   "metadata": {},
   "outputs": [
    {
     "name": "stdout",
     "output_type": "stream",
     "text": [
      "6 4 8 "
     ]
    }
   ],
   "source": [
    "for number in [6, 4, 8]:\n",
    "    print(number, end = \" \")"
   ]
  },
  {
   "cell_type": "code",
   "execution_count": 21,
   "id": "ba9fa2d6",
   "metadata": {},
   "outputs": [
    {
     "name": "stdout",
     "output_type": "stream",
     "text": [
      "H i ,   t h e r e ! "
     ]
    }
   ],
   "source": [
    "for charachter in \"Hi, there!\":\n",
    "    print(charachter, end = \" \")"
   ]
  },
  {
   "cell_type": "markdown",
   "id": "cfdee210",
   "metadata": {},
   "source": [
    "## Specifying the steps in the range\n",
    "\n",
    "Another variant of the python range() function, allows is to enter 3 values as arguments.\n",
    "\n",
    "range(val1, val2, val3)\n",
    "val1 - Is the first value in the range\n",
    "val2 - The first value not in the range\n",
    "val3 - The step value - is the interval between the numbers used in the range"
   ]
  },
  {
   "cell_type": "code",
   "execution_count": 22,
   "id": "61dd7001",
   "metadata": {},
   "outputs": [
    {
     "name": "stdout",
     "output_type": "stream",
     "text": [
      "[1, 2, 3, 4, 5]\n",
      "[1, 3, 5]\n",
      "[1, 4]\n"
     ]
    }
   ],
   "source": [
    "print(list(range(1, 6, 1)))\n",
    "print(list(range(1, 6, 2)))\n",
    "print(list(range(1, 6, 3)))"
   ]
  },
  {
   "cell_type": "code",
   "execution_count": 23,
   "id": "19b74381",
   "metadata": {},
   "outputs": [
    {
     "name": "stdout",
     "output_type": "stream",
     "text": [
      "30\n"
     ]
    }
   ],
   "source": [
    "theSum = 0\n",
    "for count in range(2, 11, 2):\n",
    "    theSum +=  count\n",
    "    \n",
    "print(theSum)"
   ]
  },
  {
   "cell_type": "markdown",
   "id": "481e92a1",
   "metadata": {},
   "source": [
    "## Loops that count down\n",
    "\n",
    "* Untill now we been counting up based on what our range is\n",
    "\n",
    "\n"
   ]
  },
  {
   "cell_type": "code",
   "execution_count": 24,
   "id": "8a4bc497",
   "metadata": {},
   "outputs": [
    {
     "name": "stdout",
     "output_type": "stream",
     "text": [
      "10 9 8 7 6 5 4 3 2 1 "
     ]
    }
   ],
   "source": [
    "for count in range (10, 0, -1):\n",
    "    print(count, end = \" \")"
   ]
  },
  {
   "cell_type": "code",
   "execution_count": 25,
   "id": "e7e314cb",
   "metadata": {},
   "outputs": [
    {
     "name": "stdout",
     "output_type": "stream",
     "text": [
      "[10, 9, 8, 7, 6, 5, 4, 3, 2, 1]\n"
     ]
    }
   ],
   "source": [
    "print(list(range(10, 0, -1)))"
   ]
  },
  {
   "cell_type": "markdown",
   "id": "d6dcbeee",
   "metadata": {},
   "source": [
    "## Back to formating text for output"
   ]
  },
  {
   "cell_type": "code",
   "execution_count": 26,
   "id": "5e9d8e49",
   "metadata": {},
   "outputs": [
    {
     "name": "stdout",
     "output_type": "stream",
     "text": [
      "7 10000000\n",
      "8 100000000\n",
      "9 1000000000\n",
      "10 10000000000\n"
     ]
    }
   ],
   "source": [
    "for exponet in range(7, 11):\n",
    "    print(exponet, 10 ** exponet)"
   ]
  },
  {
   "cell_type": "markdown",
   "id": "f98c0939",
   "metadata": {},
   "source": [
    "### Format string & format Operator"
   ]
  },
  {
   "cell_type": "code",
   "execution_count": 27,
   "id": "2db3d95d",
   "metadata": {},
   "outputs": [
    {
     "name": "stdout",
     "output_type": "stream",
     "text": [
      "7      10000000\n",
      "8     100000000\n",
      "9    1000000000\n",
      "10  10000000000\n"
     ]
    }
   ],
   "source": [
    "# <format string> % <datum> \n",
    "\n",
    "for exponet in range(7, 11):\n",
    "    print(\"%-3d%12d\" % (exponet, 10 ** exponet))\n",
    "    # %-3d = first colum in the data output - go -3 spaces back from where the first and second colum meet\n",
    "    # %12d = the second colum in the data output will be 12 charaters wide (the feild width), everything in the feild justify right"
   ]
  },
  {
   "cell_type": "code",
   "execution_count": 28,
   "id": "7145a433",
   "metadata": {},
   "outputs": [
    {
     "name": "stdout",
     "output_type": "stream",
     "text": [
      "Your salary is $100.0\n",
      "Your salary is $100.00\n"
     ]
    }
   ],
   "source": [
    "salary = 100.00\n",
    "print(\"Your salary is $\" + str(salary))\n",
    "print(\"Your salary is $%0.2f\" % salary)"
   ]
  },
  {
   "cell_type": "code",
   "execution_count": 29,
   "id": "4383ddbe",
   "metadata": {},
   "outputs": [
    {
     "name": "stdout",
     "output_type": "stream",
     "text": [
      " 3.140\n"
     ]
    }
   ],
   "source": [
    "print(\"%6.3f\"  % 3.14)"
   ]
  },
  {
   "cell_type": "markdown",
   "id": "a8aea1e7",
   "metadata": {},
   "source": [
    "## Python if and if-else statements"
   ]
  },
  {
   "cell_type": "markdown",
   "id": "cd1eedce",
   "metadata": {},
   "source": [
    "if and id=else statements are \"Branching\" statements. They allow Pything to examine or test a condition. Based on the results of that test, your code translation will branch in one direction or another. Analogy: Think of a fork in the road. You can go left or right.\n",
    "\n",
    "It is also known as a slection statement\n",
    "\n",
    "### How does Python test a conditiional?\n",
    "\n",
    "Python uses Booleans to test conditions. <br>\n",
    "If 2 + 3 = 5 <br>\n",
    "    &nbsp;&nbsp;&nbsp;&nbsp;&nbsp;&nbsp;run some code...<br>\n",
    "else   <br>\n",
    "    &nbsp;&nbsp;&nbsp;&nbsp;&nbsp;&nbsp;runs some other code"
   ]
  },
  {
   "cell_type": "markdown",
   "id": "ad967472",
   "metadata": {},
   "source": [
    "Python will use simple Comparsion Oprators to do this:\n",
    "\n",
    "- == Equals to\n",
    "- != Not equals\n",
    "- < Less than\n",
    "- \\> Greater than\n",
    "- <= Less Than equal to\n",
    "- \\>= Greaterthan equal to"
   ]
  },
  {
   "cell_type": "code",
   "execution_count": 30,
   "id": "2eb05833",
   "metadata": {},
   "outputs": [
    {
     "name": "stdout",
     "output_type": "stream",
     "text": [
      "True\n",
      "False\n",
      "False\n",
      "True\n",
      "True\n",
      "True\n",
      "True\n"
     ]
    }
   ],
   "source": [
    "print(4 == 4)\n",
    "print(4 == 7)\n",
    "print(4 != 4)\n",
    "print(4 < 7)\n",
    "print(7 > 4)\n",
    "print(4 <= 7)\n",
    "print(7 >= 4)"
   ]
  },
  {
   "cell_type": "code",
   "execution_count": 31,
   "id": "85301bb2",
   "metadata": {},
   "outputs": [
    {
     "name": "stdout",
     "output_type": "stream",
     "text": [
      "The radius is 1054.7469565507317\n"
     ]
    }
   ],
   "source": [
    "#Python if els Statment Example\n",
    "import math\n",
    "area = float(input(\"Entr the area: \"))\n",
    "\n",
    "if area > 0:\n",
    "    radius = math.sqrt(area / math.pi)\n",
    "    print(\"The radius is\", radius)\n",
    "else:\n",
    "    print(\"Error: the area must be a postive number.\")"
   ]
  },
  {
   "cell_type": "code",
   "execution_count": 32,
   "id": "9eac0c49",
   "metadata": {},
   "outputs": [
    {
     "name": "stdout",
     "output_type": "stream",
     "text": [
      "Maximum: 73\n",
      "Minimum: 29\n"
     ]
    }
   ],
   "source": [
    "# This example prints the maximum and minimum of two input numbers\n",
    "first = int(input(\"Enter the first number: \"))\n",
    "second = int(input(\"Enter the second number: \"))\n",
    "\n",
    "if first > second:\n",
    "    maximum = first\n",
    "    minumum = second\n",
    "else:\n",
    "    maximum = second\n",
    "    minumum = first\n",
    "    \n",
    "print(\"Maximum:\", maximum)\n",
    "print(\"Minimum:\", minumum)"
   ]
  },
  {
   "cell_type": "markdown",
   "id": "0d895b06",
   "metadata": {},
   "source": [
    "## Python min and max functions"
   ]
  },
  {
   "cell_type": "code",
   "execution_count": 34,
   "id": "73b4a8c4",
   "metadata": {},
   "outputs": [
    {
     "name": "stdout",
     "output_type": "stream",
     "text": [
      "Maximum: 39930\n",
      "Minimum: 2676\n"
     ]
    }
   ],
   "source": [
    "# min() and max() will elminate the if stament\n",
    "\n",
    "first = int(input(\"Enter the first number: \"))\n",
    "second = int(input(\"Enter the second number: \"))\n",
    "print(\"Maximum:\", max(first, second))\n",
    "print(\"Minimum:\", min(first, second))"
   ]
  },
  {
   "cell_type": "markdown",
   "id": "0aedec59",
   "metadata": {},
   "source": [
    "## On-way selction statement"
   ]
  },
  {
   "cell_type": "code",
   "execution_count": 35,
   "id": "9a376c08",
   "metadata": {},
   "outputs": [
    {
     "name": "stdout",
     "output_type": "stream",
     "text": [
      "25\n"
     ]
    }
   ],
   "source": [
    "x = 25\n",
    "if x < 0:\n",
    "    x = -x\n",
    "\n",
    "print(x)"
   ]
  },
  {
   "cell_type": "markdown",
   "id": "38df3f0a",
   "metadata": {},
   "source": [
    "## Multi-Way if statments"
   ]
  },
  {
   "cell_type": "code",
   "execution_count": 39,
   "id": "a9cac4a1",
   "metadata": {},
   "outputs": [
    {
     "name": "stdout",
     "output_type": "stream",
     "text": [
      "Ther letter grade is F\n"
     ]
    }
   ],
   "source": [
    "number = int(input(\"Enter the numeric grade: \"))\n",
    "if number > 89:\n",
    "    letter = 'A'\n",
    "elif number > 79:\n",
    "    letter = 'B'\n",
    "elif number > 69:\n",
    "    letter = 'C'\n",
    "else:\n",
    "    letter = 'F'\n",
    "    \n",
    "print(\"Ther letter grade is\", letter)"
   ]
  },
  {
   "cell_type": "markdown",
   "id": "8fa38a8b",
   "metadata": {},
   "source": [
    "## Logical Operator and compund Boolean Expressions\n",
    "\n",
    "Iften time in the course of a Python script interpretation, w may have to check i=to see if 2 or more conditional statments are truw before running a sequence of code."
   ]
  },
  {
   "cell_type": "code",
   "execution_count": 40,
   "id": "2a1d360d",
   "metadata": {},
   "outputs": [
    {
     "name": "stdout",
     "output_type": "stream",
     "text": [
      "You can follow basic intrsuctions\n"
     ]
    }
   ],
   "source": [
    "number = int(input(\"Enter the numeric grade: \"))\n",
    "if number > 100:\n",
    "    print(\"Error: garde must be between 100 and 0.\")\n",
    "elif number < 0:\n",
    "    print(\"Error: Grade mys be between 100 and 0.\")\n",
    "else:\n",
    "    print(\"You can follow basic intrsuctions\")\n",
    "    #run some code"
   ]
  },
  {
   "cell_type": "markdown",
   "id": "6a319d1a",
   "metadata": {},
   "source": [
    "### Compound boolean Exprssion\n",
    "\n",
    "Testing multiple conditions at the same time.\n",
    "\n",
    "To do this we use **Logical Operators**:\n",
    "\n",
    "- and\n",
    "- or\n",
    "- not"
   ]
  },
  {
   "cell_type": "code",
   "execution_count": 41,
   "id": "1168ef4e",
   "metadata": {},
   "outputs": [
    {
     "name": "stdout",
     "output_type": "stream",
     "text": [
      "You can follow basic intrsuctions\n"
     ]
    }
   ],
   "source": [
    "number = int(input(\"Enter the numeric grade: \"))\n",
    "if number > 100 or number < 0:\n",
    "    print(\"Error\")\n",
    "else: \n",
    "    print(\"You can follow basic intrsuctions\")"
   ]
  },
  {
   "cell_type": "markdown",
   "id": "dff0c54e",
   "metadata": {},
   "source": [
    "## Truth tables\n",
    "\n",
    "<table>\n",
    "    <tr>\n",
    "        <th>\n",
    "            A\n",
    "        </th>\n",
    "        <th>\n",
    "            B\n",
    "        </th>\n",
    "        <th>\n",
    "            A and B\n",
    "        </th>\n",
    "    </tr>\n",
    "    <tr>\n",
    "        <td>\n",
    "            True\n",
    "        </td>\n",
    "        <td>\n",
    "            True\n",
    "        </td>\n",
    "        <td>\n",
    "            True\n",
    "        </td>\n",
    "    </tr>\n",
    "    <tr>\n",
    "         <td>\n",
    "            True\n",
    "        </td>\n",
    "        <td>\n",
    "            False\n",
    "        </td>\n",
    "        <td>\n",
    "            False\n",
    "        </td>\n",
    "    </tr>\n",
    "</table>"
   ]
  },
  {
   "cell_type": "markdown",
   "id": "babcca22",
   "metadata": {},
   "source": []
  }
 ],
 "metadata": {
  "kernelspec": {
   "display_name": "Python 3",
   "language": "python",
   "name": "python3"
  },
  "language_info": {
   "codemirror_mode": {
    "name": "ipython",
    "version": 3
   },
   "file_extension": ".py",
   "mimetype": "text/x-python",
   "name": "python",
   "nbconvert_exporter": "python",
   "pygments_lexer": "ipython3",
   "version": "3.12.1"
  }
 },
 "nbformat": 4,
 "nbformat_minor": 5
}
